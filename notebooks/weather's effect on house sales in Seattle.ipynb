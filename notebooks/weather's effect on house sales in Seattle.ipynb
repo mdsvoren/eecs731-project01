{
 "cells": [
  {
   "cell_type": "markdown",
   "metadata": {},
   "source": [
    "The data sets explored in this notebook are house sales data in King County, WA (in Seattle), and the the history of rainy days in Seattle. The chosen industry is real estate, with the inquiry being whether more houses sell on days where it doesn't rain.\n",
    "\n",
    "Links:\n",
    "https://www.kaggle.com/harlfoxem/housesalesprediction/version/1\n",
    "https://www.kaggle.com/rtatman/did-it-rain-in-seattle-19482017"
   ]
  },
  {
   "cell_type": "code",
   "execution_count": 3,
   "metadata": {},
   "outputs": [
    {
     "name": "stdout",
     "output_type": "stream",
     "text": [
      "         DATE  PRCP  TMAX  TMIN  RAIN\n",
      "0  1948-01-01  0.47    51    42  True\n",
      "1  1948-01-02  0.59    45    36  True\n",
      "2  1948-01-03  0.42    45    35  True\n",
      "3  1948-01-04  0.31    45    34  True\n",
      "4  1948-01-05  0.17    45    32  True\n",
      "           id             date     price  bedrooms  bathrooms  sqft_living  \\\n",
      "0  7129300520  20141013T000000  221900.0         3       1.00         1180   \n",
      "1  6414100192  20141209T000000  538000.0         3       2.25         2570   \n",
      "2  5631500400  20150225T000000  180000.0         2       1.00          770   \n",
      "3  2487200875  20141209T000000  604000.0         4       3.00         1960   \n",
      "4  1954400510  20150218T000000  510000.0         3       2.00         1680   \n",
      "\n",
      "   sqft_lot  floors  waterfront  view  ...  grade  sqft_above  sqft_basement  \\\n",
      "0      5650     1.0           0     0  ...      7        1180              0   \n",
      "1      7242     2.0           0     0  ...      7        2170            400   \n",
      "2     10000     1.0           0     0  ...      6         770              0   \n",
      "3      5000     1.0           0     0  ...      7        1050            910   \n",
      "4      8080     1.0           0     0  ...      8        1680              0   \n",
      "\n",
      "   yr_built  yr_renovated  zipcode      lat     long  sqft_living15  \\\n",
      "0      1955             0    98178  47.5112 -122.257           1340   \n",
      "1      1951          1991    98125  47.7210 -122.319           1690   \n",
      "2      1933             0    98028  47.7379 -122.233           2720   \n",
      "3      1965             0    98136  47.5208 -122.393           1360   \n",
      "4      1987             0    98074  47.6168 -122.045           1800   \n",
      "\n",
      "   sqft_lot15  \n",
      "0        5650  \n",
      "1        7639  \n",
      "2        8062  \n",
      "3        5000  \n",
      "4        7503  \n",
      "\n",
      "[5 rows x 21 columns]\n"
     ]
    }
   ],
   "source": [
    "import numpy as np\n",
    "import pandas as pd\n",
    "\n",
    "rainyDay = pd.read_csv(\"../data/seattleWeather_1948-2017.csv\")\n",
    "print(rainyDay.head(5))\n",
    "\n",
    "houseSales = pd.read_csv(\"../data/kc_house_data.csv\")\n",
    "print(houseSales.head(5))"
   ]
  },
  {
   "cell_type": "markdown",
   "metadata": {},
   "source": [
    "The data sets that are now in the data frame can be combined to establish additional value by binding the sets by date. My hypothesis is that more houses are sold on days where there is no rain. Additionally, it would be instructive to explore whether the weather in the period (i.e. 1 week) leading up to a sale matters, as well as if there is a subset that the weather plays a larger factor in, such as houses with waterfront views or homes at a certain pricepoint."
   ]
  },
  {
   "cell_type": "code",
   "execution_count": 4,
   "metadata": {},
   "outputs": [
    {
     "name": "stdout",
     "output_type": "stream",
     "text": [
      "        DATE  PRCP  TMAX  TMIN  RAIN\n",
      "0 1948-01-01  0.47    51    42  True\n",
      "1 1948-01-02  0.59    45    36  True\n",
      "2 1948-01-03  0.42    45    35  True\n",
      "3 1948-01-04  0.31    45    34  True\n",
      "4 1948-01-05  0.17    45    32  True\n",
      "           id       date      price  bedrooms  bathrooms  sqft_living  \\\n",
      "0  7129300520 2014-10-13   221900.0         3       1.00         1180   \n",
      "1  4036801170 2014-10-13   380000.0         4       1.75         1760   \n",
      "2  1310900260 2014-10-13   318888.0         4       1.75         2320   \n",
      "3  1373800295 2014-10-13  1450000.0         3       3.00         4380   \n",
      "4  5102400105 2014-10-13   400000.0         4       1.00         1420   \n",
      "\n",
      "   sqft_lot  floors  waterfront  view  ...  zipcode      lat     long  \\\n",
      "0      5650     1.0           0     0  ...    98178  47.5112 -122.257   \n",
      "1      7300     1.0           0     0  ...    98008  47.6034 -122.125   \n",
      "2     12000     1.0           0     0  ...    98032  47.3644 -122.280   \n",
      "3      6320     2.0           0     3  ...    98199  47.6452 -122.411   \n",
      "4      4875     1.5           0     0  ...    98115  47.6942 -122.321   \n",
      "\n",
      "   sqft_living15  sqft_lot15       DATE  PRCP  TMAX  TMIN  RAIN  \n",
      "0           1340        5650 2014-10-13   0.3    70    50  True  \n",
      "1           1680        7500 2014-10-13   0.3    70    50  True  \n",
      "2           2120        9880 2014-10-13   0.3    70    50  True  \n",
      "3           3080        7680 2014-10-13   0.3    70    50  True  \n",
      "4           1110        5413 2014-10-13   0.3    70    50  True  \n",
      "\n",
      "[5 rows x 26 columns]\n"
     ]
    }
   ],
   "source": [
    "import dateutil.parser\n",
    "def convertDate(oldDate):\n",
    "    return dateutil.parser.parse(oldDate)\n",
    "\n",
    "houseSales['date'] = houseSales['date'].apply(convertDate)\n",
    "rainyDay['DATE'] = rainyDay['DATE'].apply(convertDate)\n",
    "print(rainyDay.head(5))\n",
    "\n",
    "\n",
    "combinedData = houseSales.merge(rainyDay, left_on='date', right_on='DATE', how='inner')\n",
    "print(combinedData.head(5))\n",
    "\n"
   ]
  },
  {
   "cell_type": "markdown",
   "metadata": {},
   "source": [
    "In the above code, I combined the two dataframes. First, however, I had to parse the dates to ensure they matched in type/formatting. The reason is because the date is the key by which the two dataframes are joined. These data sets were strong initially, meaning that the data was clean, concise, and without holes, all of which simplified the preparation process. Next we will look at some visualizations of the data using MatPlotLib."
   ]
  },
  {
   "cell_type": "code",
   "execution_count": 13,
   "metadata": {},
   "outputs": [
    {
     "data": {
      "image/png": "[encoded data removed]",
      "text/plain": [
       "<Figure size 432x288 with 1 Axes>"
      ]
     },
     "metadata": {},
     "output_type": "display_data"
    }
   ],
   "source": [
    "import matplotlib.pyplot as plt\n",
    "labels = 'Rain' ,'No Rain'\n",
    "rainSize = len(combinedData.loc[combinedData['RAIN'] == True])\n",
    "noRainSize = len(combinedData.loc[combinedData['RAIN'] == False])\n",
    "\n",
    "sizes = [rainSize, noRainSize]\n",
    "explode = (0, 0.1)  # only \"explode\" the 2nd slice (i.e. 'Hogs')\n",
    "\n",
    "fig1, ax1 = plt.subplots()\n",
    "ax1.pie(sizes, explode=explode, labels=labels, autopct='%1.1f%%',\n",
    "        shadow=True, startangle=90)\n",
    "ax1.axis('equal')  # Equal aspect ratio ensures that pie is drawn as a circle.\n",
    "\n",
    "plt.show()"
   ]
  },
  {
   "cell_type": "markdown",
   "metadata": {},
   "source": [
    "The above pie chart shows the percentage of houses that sold on days with no rain versus on days with rain. As hypothesized, more houses are sold on days with no rain. Next we will look at the average price of homes sold on rainy days vs the average price of homes sold on days with no rain."
   ]
  },
  {
   "cell_type": "code",
   "execution_count": 23,
   "metadata": {},
   "outputs": [
    {
     "name": "stdout",
     "output_type": "stream",
     "text": [
      "541151.2759654179\n",
      "539375.3044520018\n"
     ]
    },
    {
     "data": {
      "image/png": "[encoded data removed]",
      "text/plain": [
       "<Figure size 640x480 with 1 Axes>"
      ]
     },
     "metadata": {},
     "output_type": "display_data"
    }
   ],
   "source": [
    "# Fixing random state for reproducibility\n",
    "np.random.seed(19680801)\n",
    "\n",
    "plt.rcdefaults()\n",
    "fig, ax = plt.subplots()\n",
    "\n",
    "# Example data\n",
    "dataTypes = ('Rain', 'No Rain')\n",
    "y_pos = np.arange(len(dataTypes))\n",
    "\n",
    "\n",
    "rainOnly = (combinedData.loc[combinedData['RAIN'] == True])\n",
    "noRainOnly = (combinedData.loc[combinedData['RAIN'] == False])\n",
    "\n",
    "rainCost = rainOnly['price'].mean()\n",
    "noRainCost = noRainOnly['price'].mean()\n",
    "\n",
    "ax.barh(y_pos, [rainCost, noRainCost], align='center')\n",
    "ax.set_yticks(y_pos)\n",
    "ax.set_yticklabels(dataTypes)\n",
    "ax.invert_yaxis()  # labels read top-to-bottom\n",
    "ax.set_xlabel('Price ($)')\n",
    "ax.set_title('Average Price')\n",
    "\n",
    "plt.show()"
   ]
  },
  {
   "cell_type": "markdown",
   "metadata": {},
   "source": [
    "We see that the average sale price when raining or not raining is nearly identical, with the price on a rainy day at $541k and a non rainy day at $539k.\n",
    "\n",
    "These explorations highlight some basic ways the combination of these datasets could be useful to analyze. Extensions could entail combining various factors to reach a conclusion, using rolling averages of precipitation level, etc. "
   ]
  }
 ],
 "metadata": {
  "kernelspec": {
   "display_name": "Python 3",
   "language": "python",
   "name": "python3"
  },
  "language_info": {
   "codemirror_mode": {
    "name": "ipython",
    "version": 3
   },
   "file_extension": ".py",
   "mimetype": "text/x-python",
   "name": "python",
   "nbconvert_exporter": "python",
   "pygments_lexer": "ipython3",
   "version": "3.7.3"
  }
 },
 "nbformat": 4,
 "nbformat_minor": 2
}
